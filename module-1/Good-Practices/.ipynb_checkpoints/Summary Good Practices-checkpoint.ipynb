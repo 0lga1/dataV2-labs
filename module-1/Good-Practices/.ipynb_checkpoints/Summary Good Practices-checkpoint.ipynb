{
 "cells": [
  {
   "cell_type": "markdown",
   "metadata": {},
   "source": [
    "Variable naming:\n",
    "    - not using mixedCase\n",
    "    - using underscore_for_variale_naming\n",
    "    - constants in capitals: TOTAL\n",
    "    - no l in lowercase or O in uppercase\n"
   ]
  },
  {
   "cell_type": "markdown",
   "metadata": {},
   "source": [
    "Function naming:\n",
    "    - use 'def' statement instead of assignment \n"
   ]
  },
  {
   "cell_type": "code",
   "execution_count": null,
   "metadata": {},
   "outputs": [],
   "source": [
    "#example \n",
    "    # Correct:\n",
    "    def f(x): return 2*x\n",
    "    # Wrong:\n",
    "    f = lambda x: 2*x"
   ]
  },
  {
   "cell_type": "markdown",
   "metadata": {},
   "source": [
    "Line indention: \n",
    "    - 4 spaces \n",
    "    - variables on the same line\n",
    "    - Limit all lines to a maximum of 79 characters\n",
    "    \n",
    "    "
   ]
  }
 ],
 "metadata": {
  "kernelspec": {
   "display_name": "Python 3",
   "language": "python",
   "name": "python3"
  },
  "language_info": {
   "codemirror_mode": {
    "name": "ipython",
    "version": 3
   },
   "file_extension": ".py",
   "mimetype": "text/x-python",
   "name": "python",
   "nbconvert_exporter": "python",
   "pygments_lexer": "ipython3",
   "version": "3.8.2"
  }
 },
 "nbformat": 4,
 "nbformat_minor": 4
}
